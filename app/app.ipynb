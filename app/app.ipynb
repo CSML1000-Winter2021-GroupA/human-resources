{
 "metadata": {
  "language_info": {
   "codemirror_mode": {
    "name": "ipython",
    "version": 3
   },
   "file_extension": ".py",
   "mimetype": "text/x-python",
   "name": "python",
   "nbconvert_exporter": "python",
   "pygments_lexer": "ipython3",
   "version": "3.8.5-final"
  },
  "orig_nbformat": 2,
  "kernelspec": {
   "name": "python3",
   "display_name": "Python 3.8.5 64-bit ('human-resources': conda)",
   "metadata": {
    "interpreter": {
     "hash": "b5dab90e9938c69c0987ca4fdc5dce9524986d10e23704aac2ef582bd44052fc"
    }
   }
  }
 },
 "nbformat": 4,
 "nbformat_minor": 2,
 "cells": [
  {
   "cell_type": "code",
   "execution_count": null,
   "metadata": {},
   "outputs": [],
   "source": [
    "import ipyvuetify as v\n",
    "import ipywidgets as widgets\n",
    "import numpy as np\n",
    "import pandas as pd\n",
    "import pickle\n",
    "import plotly.express as px\n",
    "import plotly.graph_objs as go"
   ]
  },
  {
   "source": [
    "v.theme.dark = True\n",
    "\n",
    "title_html = v.Container(children=[\n",
    "    v.Html(\n",
    "        tag='h1',\n",
    "        children=['Human Resources']\n",
    "    ),\n",
    "    v.Html(\n",
    "        tag='p',\n",
    "        children=['This app aims to predict attrition using the IBM HR dataset and performs suvivability analysis based on unsupervised clustering']\n",
    "    )\n",
    "])"
   ],
   "cell_type": "code",
   "metadata": {},
   "execution_count": null,
   "outputs": []
  },
  {
   "cell_type": "code",
   "execution_count": 1,
   "metadata": {},
   "outputs": [
    {
     "output_type": "error",
     "ename": "NameError",
     "evalue": "name 'widgets' is not defined",
     "traceback": [
      "\u001b[1;31m---------------------------------------------------------------------------\u001b[0m",
      "\u001b[1;31mNameError\u001b[0m                                 Traceback (most recent call last)",
      "\u001b[1;32m<ipython-input-1-c04adb2cb0c6>\u001b[0m in \u001b[0;36m<module>\u001b[1;34m\u001b[0m\n\u001b[1;32m----> 1\u001b[1;33m age_slider = widgets.IntSlider(\n\u001b[0m\u001b[0;32m      2\u001b[0m     \u001b[0mvalue\u001b[0m\u001b[1;33m=\u001b[0m\u001b[1;36m18\u001b[0m\u001b[1;33m,\u001b[0m\u001b[1;33m\u001b[0m\u001b[1;33m\u001b[0m\u001b[0m\n\u001b[0;32m      3\u001b[0m     \u001b[0mmin\u001b[0m\u001b[1;33m=\u001b[0m\u001b[1;36m18\u001b[0m\u001b[1;33m,\u001b[0m\u001b[1;33m\u001b[0m\u001b[1;33m\u001b[0m\u001b[0m\n\u001b[0;32m      4\u001b[0m     \u001b[0mmax\u001b[0m\u001b[1;33m=\u001b[0m\u001b[1;36m60\u001b[0m\u001b[1;33m,\u001b[0m\u001b[1;33m\u001b[0m\u001b[1;33m\u001b[0m\u001b[0m\n\u001b[0;32m      5\u001b[0m     \u001b[0mstep\u001b[0m\u001b[1;33m=\u001b[0m\u001b[1;36m1\u001b[0m\u001b[1;33m,\u001b[0m\u001b[1;33m\u001b[0m\u001b[1;33m\u001b[0m\u001b[0m\n",
      "\u001b[1;31mNameError\u001b[0m: name 'widgets' is not defined"
     ]
    }
   ],
   "source": [
    "age_slider = v.Slider(label=\"Age\", min=18, max=60, step=1, thumb_label=\"always\", thumb_size=\"18\")\n",
    "\n",
    "biz_travel_dropdown = v.Select(label=\"Business Travel\", items=['Non-Travel', 'Travel Rarely', 'Travel Frequently'], v_model='Non-Travel')\n",
    "\n",
    "daily_rate_text = v.TextField(label=\"Daily Rate\", v_model=200, type='number')\n",
    "\n",
    "def daily_rate_blur(widget, event, data):\n",
    "    if widget.v_model < 100:\n",
    "        widget.v_model == 100\n",
    "    elif widget.v_model > 1500:\n",
    "        widget.v_model == 1500\n",
    "\n",
    "daily_rate_text.on_event('blur', daily_rate_blur)\n",
    "\n",
    "department_dropdown = v.Select(label=\"Department\", items=['Human Resources', 'Research & Development','Sales'], value='Human Resources')\n",
    "\n",
    "dist_from_home_slider = v.Slider(label=\"Distance from Home\", min=1, max=30, step=1, thumb_label=\"always\", thumb_size=\"18\")\n",
    "\n",
    "education_dropdown = v.Select(label=\"Education\", items=['Below College', 'College', 'Bachelor', 'Master', 'Doctor'], value='Below College')\n",
    "\n",
    "enviro_satisfy_dropdown = v.Select(label=\"Environment Satisfaction\", items=['Low', 'Medium', 'High', 'Very High'], value='Low')\n",
    "\n",
    "gender_dropdown = v.Select(label=\"Gender\", items=['Male', 'Female'], value='Male')"
   ]
  },
  {
   "cell_type": "code",
   "execution_count": null,
   "metadata": {},
   "outputs": [],
   "source": [
    "input_widgets = v.Html(tag='div', class_='d-flex flex-column', children=[age_slider, biz_travel_dropdown, daily_rate_text, department_dropdown, dist_from_home_slider, education_dropdown, enviro_satisfy_dropdown, gender_dropdown]) # VBox"
   ]
  },
  {
   "cell_type": "code",
   "execution_count": null,
   "metadata": {},
   "outputs": [],
   "source": [
    "app_contents = [\n",
    "    title_html,\n",
    "    v.Html(tag='div', class_='d-flex flex-row', children=[input_widgets]) # HBox\n",
    "]\n",
    "app = v.Html(tag='div', class_='d-flex flex-column', children=app_contents) # VBox"
   ]
  },
  {
   "cell_type": "code",
   "execution_count": null,
   "metadata": {},
   "outputs": [],
   "source": [
    "content_main = v.Layout(\n",
    "                    _metadata={'mount_id': 'content-main'},\n",
    "                    children=[\n",
    "                        app\n",
    "                    ])\n",
    "content_main                        "
   ]
  }
 ]
}